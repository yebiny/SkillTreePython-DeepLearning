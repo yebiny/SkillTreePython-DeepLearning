{
  "nbformat": 4,
  "nbformat_minor": 0,
  "metadata": {
    "colab": {
      "name": "ch01_03_DNN기초-회귀모델.ipynb",
      "provenance": [],
      "authorship_tag": "ABX9TyMbcIqBOdKoMTPkASVMaKjp",
      "include_colab_link": true
    },
    "kernelspec": {
      "name": "python3",
      "display_name": "Python 3"
    },
    "language_info": {
      "name": "python"
    }
  },
  "cells": [
    {
      "cell_type": "markdown",
      "metadata": {
        "id": "view-in-github",
        "colab_type": "text"
      },
      "source": [
        "<a href=\"https://colab.research.google.com/github/yebiny/SkillTreePython-DeepLearning/blob/main/01.%EB%94%A5%EB%9F%AC%EB%8B%9Dwith%ED%85%90%EC%84%9C%ED%94%8C%EB%A1%9C%EC%9A%B0-basic/%ED%95%B4%EC%84%A4/ch01_03_DNN%EA%B8%B0%EC%B4%88_%ED%9A%8C%EA%B7%80%EB%AA%A8%EB%8D%B8.ipynb\" target=\"_parent\"><img src=\"https://colab.research.google.com/assets/colab-badge.svg\" alt=\"Open In Colab\"/></a>"
      ]
    },
    {
      "cell_type": "markdown",
      "source": [
        "# ch01.03 DNN기초-회귀 모델\n",
        "\n",
        "---\n",
        "* 날짜:\n",
        "* 이름:\n",
        "\n",
        "## 학습내용\n",
        "    - 딥러닝을 이용한 회귀 모델 구현\n",
        "    - 적절한 손실함수와 최적화 함수 정의\n",
        "    - 평가 및 예측\n",
        "\n",
        "## 학습자료\n",
        "\n",
        "* 모두의딥러닝 15장\n",
        "* 데이터\n",
        "  * 보스턴 집값 (boston houosing)\n",
        "  * 캘리포티아 집값 (california housing) \n",
        "\n",
        "```\n",
        "import numpy as np\n",
        "import pandas as pd\n",
        "import tensorflow as tf\n",
        "import matplotlib.pyplot as plt\n",
        "import seaborn as sns\n",
        "seed=1\n",
        "np.random.seed(seed)\n",
        "tf.random.set_seed(seed)\n",
        "```\n",
        "\n",
        "```\n",
        "https://github.com/yebiny/SkillTreePython-DeepLearning.git\n",
        "```"
      ],
      "metadata": {
        "id": "sWs2kEC1_b-P"
      }
    },
    {
      "cell_type": "code",
      "source": [
        "import numpy as np\n",
        "import pandas as pd\n",
        "import tensorflow as tf\n",
        "import matplotlib.pyplot as plt\n",
        "import seaborn as sns\n",
        "seed=1\n",
        "np.random.seed(seed)\n",
        "tf.random.set_seed(seed)"
      ],
      "metadata": {
        "id": "7vXrksNr0m1v"
      },
      "execution_count": null,
      "outputs": []
    },
    {
      "cell_type": "code",
      "source": [
        "! git clone https://github.com/yebiny/SkillTreePython-DeepLearning.git"
      ],
      "metadata": {
        "id": "d2yn5OtsFL0C",
        "colab": {
          "base_uri": "https://localhost:8080/"
        },
        "outputId": "af7030ac-56af-4d8a-8b3c-6b9eca809d8a"
      },
      "execution_count": null,
      "outputs": [
        {
          "output_type": "stream",
          "name": "stdout",
          "text": [
            "Cloning into 'SkillTreePython-DeepLearning'...\n",
            "remote: Enumerating objects: 278, done.\u001b[K\n",
            "remote: Counting objects: 100% (100/100), done.\u001b[K\n",
            "remote: Compressing objects: 100% (57/57), done.\u001b[K\n",
            "remote: Total 278 (delta 68), reused 43 (delta 43), pack-reused 178\u001b[K\n",
            "Receiving objects: 100% (278/278), 21.93 MiB | 11.61 MiB/s, done.\n",
            "Resolving deltas: 100% (103/103), done.\n"
          ]
        }
      ]
    },
    {
      "cell_type": "markdown",
      "source": [
        "## 보스턴 집값 (boston houosing) 예측하기\n",
        "---\n",
        "\n",
        "> 1978년 집값에 가장 큰 영향을 미치는 것이 '깨끗한 공기' 라는 연구 겨로가가 하버드 대학교 도시개발학과에서 발표되었습니다. 이들은 자신의 주장을 뒷받침하기 위해 집값의 변동에 영향을 미치는 여러가지 요인을 모아서 환경과 집값의 변동을 보여주는 데이터셋을 만들었습니다. [ 모두의 딥러닝 중]\n",
        "\n",
        "\n",
        "```\n",
        "- 0 CRIM: 인구 1인당 범죄 발생 수\n",
        "- 1 ZN: 25,000평방 피트 이상의 주거 구역 비중\n",
        "- 2 INDUS: 소매업 외 상업이 차지하는 면적 비율\n",
        "- 3 CHAS: 찰스강 위치 변수(1:강 주변, 0: 이외)\n",
        "- 4 NOX: 일산화질소 농도\n",
        "- 5 RM: 집의 평균 방 수\n",
        "- 6 AGE: 1940년 이전에 지어진 비율\n",
        "- 7 DIS: 5가지 보스턴 시 고용 시설까지의 거리\n",
        "- 8 RAD: 순환고속도로의 접근 용이성\n",
        "- 9 TAX: 10,000달러당 부동산 세율 총계\n",
        "- 10 PTRATIO: 지역별 학생과 교사 비율\n",
        "- 11 B: 지역별 흑인비율\n",
        "- 12 LSTAT: 급여가 낮은 직업에 종사하는 인구 비율\n",
        "- 13 가격 (단위 $1,000)\n",
        "```\n",
        "\n",
        "<p align='center'>\n",
        "<img src=https://github.com/yebiny/SkillTreePython-DeepLearning/blob/main/imgs/ch0103-02.PNG?raw=true\n",
        " width=450>\n",
        "</p>"
      ],
      "metadata": {
        "id": "KOmt3w8_rVe2"
      }
    },
    {
      "cell_type": "markdown",
      "source": [
        "### | 데이터 준비"
      ],
      "metadata": {
        "id": "TmgkVAdIfngb"
      }
    },
    {
      "cell_type": "markdown",
      "source": [
        "#### **데이터 로드**\n",
        "* `housing.csv`"
      ],
      "metadata": {
        "id": "23GhZQAhrD22"
      }
    },
    {
      "cell_type": "code",
      "execution_count": null,
      "metadata": {
        "id": "68PCrczmzdId",
        "colab": {
          "base_uri": "https://localhost:8080/",
          "height": 224
        },
        "outputId": "2651bb2e-1924-46f8-80fd-1747c37ca476"
      },
      "outputs": [
        {
          "output_type": "stream",
          "name": "stdout",
          "text": [
            "(506, 14)\n"
          ]
        },
        {
          "output_type": "execute_result",
          "data": {
            "text/plain": [
              "        0     1     2   3      4      5     6       7   8      9     10  \\\n",
              "0  0.00632  18.0  2.31   0  0.538  6.575  65.2  4.0900   1  296.0  15.3   \n",
              "1  0.02731   0.0  7.07   0  0.469  6.421  78.9  4.9671   2  242.0  17.8   \n",
              "2  0.02729   0.0  7.07   0  0.469  7.185  61.1  4.9671   2  242.0  17.8   \n",
              "3  0.03237   0.0  2.18   0  0.458  6.998  45.8  6.0622   3  222.0  18.7   \n",
              "4  0.06905   0.0  2.18   0  0.458  7.147  54.2  6.0622   3  222.0  18.7   \n",
              "\n",
              "       11    12    13  \n",
              "0  396.90  4.98  24.0  \n",
              "1  396.90  9.14  21.6  \n",
              "2  392.83  4.03  34.7  \n",
              "3  394.63  2.94  33.4  \n",
              "4  396.90  5.33  36.2  "
            ],
            "text/html": [
              "\n",
              "  <div id=\"df-b4b57fc4-5eba-4ad0-b243-4161bdcc7a36\">\n",
              "    <div class=\"colab-df-container\">\n",
              "      <div>\n",
              "<style scoped>\n",
              "    .dataframe tbody tr th:only-of-type {\n",
              "        vertical-align: middle;\n",
              "    }\n",
              "\n",
              "    .dataframe tbody tr th {\n",
              "        vertical-align: top;\n",
              "    }\n",
              "\n",
              "    .dataframe thead th {\n",
              "        text-align: right;\n",
              "    }\n",
              "</style>\n",
              "<table border=\"1\" class=\"dataframe\">\n",
              "  <thead>\n",
              "    <tr style=\"text-align: right;\">\n",
              "      <th></th>\n",
              "      <th>0</th>\n",
              "      <th>1</th>\n",
              "      <th>2</th>\n",
              "      <th>3</th>\n",
              "      <th>4</th>\n",
              "      <th>5</th>\n",
              "      <th>6</th>\n",
              "      <th>7</th>\n",
              "      <th>8</th>\n",
              "      <th>9</th>\n",
              "      <th>10</th>\n",
              "      <th>11</th>\n",
              "      <th>12</th>\n",
              "      <th>13</th>\n",
              "    </tr>\n",
              "  </thead>\n",
              "  <tbody>\n",
              "    <tr>\n",
              "      <th>0</th>\n",
              "      <td>0.00632</td>\n",
              "      <td>18.0</td>\n",
              "      <td>2.31</td>\n",
              "      <td>0</td>\n",
              "      <td>0.538</td>\n",
              "      <td>6.575</td>\n",
              "      <td>65.2</td>\n",
              "      <td>4.0900</td>\n",
              "      <td>1</td>\n",
              "      <td>296.0</td>\n",
              "      <td>15.3</td>\n",
              "      <td>396.90</td>\n",
              "      <td>4.98</td>\n",
              "      <td>24.0</td>\n",
              "    </tr>\n",
              "    <tr>\n",
              "      <th>1</th>\n",
              "      <td>0.02731</td>\n",
              "      <td>0.0</td>\n",
              "      <td>7.07</td>\n",
              "      <td>0</td>\n",
              "      <td>0.469</td>\n",
              "      <td>6.421</td>\n",
              "      <td>78.9</td>\n",
              "      <td>4.9671</td>\n",
              "      <td>2</td>\n",
              "      <td>242.0</td>\n",
              "      <td>17.8</td>\n",
              "      <td>396.90</td>\n",
              "      <td>9.14</td>\n",
              "      <td>21.6</td>\n",
              "    </tr>\n",
              "    <tr>\n",
              "      <th>2</th>\n",
              "      <td>0.02729</td>\n",
              "      <td>0.0</td>\n",
              "      <td>7.07</td>\n",
              "      <td>0</td>\n",
              "      <td>0.469</td>\n",
              "      <td>7.185</td>\n",
              "      <td>61.1</td>\n",
              "      <td>4.9671</td>\n",
              "      <td>2</td>\n",
              "      <td>242.0</td>\n",
              "      <td>17.8</td>\n",
              "      <td>392.83</td>\n",
              "      <td>4.03</td>\n",
              "      <td>34.7</td>\n",
              "    </tr>\n",
              "    <tr>\n",
              "      <th>3</th>\n",
              "      <td>0.03237</td>\n",
              "      <td>0.0</td>\n",
              "      <td>2.18</td>\n",
              "      <td>0</td>\n",
              "      <td>0.458</td>\n",
              "      <td>6.998</td>\n",
              "      <td>45.8</td>\n",
              "      <td>6.0622</td>\n",
              "      <td>3</td>\n",
              "      <td>222.0</td>\n",
              "      <td>18.7</td>\n",
              "      <td>394.63</td>\n",
              "      <td>2.94</td>\n",
              "      <td>33.4</td>\n",
              "    </tr>\n",
              "    <tr>\n",
              "      <th>4</th>\n",
              "      <td>0.06905</td>\n",
              "      <td>0.0</td>\n",
              "      <td>2.18</td>\n",
              "      <td>0</td>\n",
              "      <td>0.458</td>\n",
              "      <td>7.147</td>\n",
              "      <td>54.2</td>\n",
              "      <td>6.0622</td>\n",
              "      <td>3</td>\n",
              "      <td>222.0</td>\n",
              "      <td>18.7</td>\n",
              "      <td>396.90</td>\n",
              "      <td>5.33</td>\n",
              "      <td>36.2</td>\n",
              "    </tr>\n",
              "  </tbody>\n",
              "</table>\n",
              "</div>\n",
              "      <button class=\"colab-df-convert\" onclick=\"convertToInteractive('df-b4b57fc4-5eba-4ad0-b243-4161bdcc7a36')\"\n",
              "              title=\"Convert this dataframe to an interactive table.\"\n",
              "              style=\"display:none;\">\n",
              "        \n",
              "  <svg xmlns=\"http://www.w3.org/2000/svg\" height=\"24px\"viewBox=\"0 0 24 24\"\n",
              "       width=\"24px\">\n",
              "    <path d=\"M0 0h24v24H0V0z\" fill=\"none\"/>\n",
              "    <path d=\"M18.56 5.44l.94 2.06.94-2.06 2.06-.94-2.06-.94-.94-2.06-.94 2.06-2.06.94zm-11 1L8.5 8.5l.94-2.06 2.06-.94-2.06-.94L8.5 2.5l-.94 2.06-2.06.94zm10 10l.94 2.06.94-2.06 2.06-.94-2.06-.94-.94-2.06-.94 2.06-2.06.94z\"/><path d=\"M17.41 7.96l-1.37-1.37c-.4-.4-.92-.59-1.43-.59-.52 0-1.04.2-1.43.59L10.3 9.45l-7.72 7.72c-.78.78-.78 2.05 0 2.83L4 21.41c.39.39.9.59 1.41.59.51 0 1.02-.2 1.41-.59l7.78-7.78 2.81-2.81c.8-.78.8-2.07 0-2.86zM5.41 20L4 18.59l7.72-7.72 1.47 1.35L5.41 20z\"/>\n",
              "  </svg>\n",
              "      </button>\n",
              "      \n",
              "  <style>\n",
              "    .colab-df-container {\n",
              "      display:flex;\n",
              "      flex-wrap:wrap;\n",
              "      gap: 12px;\n",
              "    }\n",
              "\n",
              "    .colab-df-convert {\n",
              "      background-color: #E8F0FE;\n",
              "      border: none;\n",
              "      border-radius: 50%;\n",
              "      cursor: pointer;\n",
              "      display: none;\n",
              "      fill: #1967D2;\n",
              "      height: 32px;\n",
              "      padding: 0 0 0 0;\n",
              "      width: 32px;\n",
              "    }\n",
              "\n",
              "    .colab-df-convert:hover {\n",
              "      background-color: #E2EBFA;\n",
              "      box-shadow: 0px 1px 2px rgba(60, 64, 67, 0.3), 0px 1px 3px 1px rgba(60, 64, 67, 0.15);\n",
              "      fill: #174EA6;\n",
              "    }\n",
              "\n",
              "    [theme=dark] .colab-df-convert {\n",
              "      background-color: #3B4455;\n",
              "      fill: #D2E3FC;\n",
              "    }\n",
              "\n",
              "    [theme=dark] .colab-df-convert:hover {\n",
              "      background-color: #434B5C;\n",
              "      box-shadow: 0px 1px 3px 1px rgba(0, 0, 0, 0.15);\n",
              "      filter: drop-shadow(0px 1px 2px rgba(0, 0, 0, 0.3));\n",
              "      fill: #FFFFFF;\n",
              "    }\n",
              "  </style>\n",
              "\n",
              "      <script>\n",
              "        const buttonEl =\n",
              "          document.querySelector('#df-b4b57fc4-5eba-4ad0-b243-4161bdcc7a36 button.colab-df-convert');\n",
              "        buttonEl.style.display =\n",
              "          google.colab.kernel.accessAllowed ? 'block' : 'none';\n",
              "\n",
              "        async function convertToInteractive(key) {\n",
              "          const element = document.querySelector('#df-b4b57fc4-5eba-4ad0-b243-4161bdcc7a36');\n",
              "          const dataTable =\n",
              "            await google.colab.kernel.invokeFunction('convertToInteractive',\n",
              "                                                     [key], {});\n",
              "          if (!dataTable) return;\n",
              "\n",
              "          const docLinkHtml = 'Like what you see? Visit the ' +\n",
              "            '<a target=\"_blank\" href=https://colab.research.google.com/notebooks/data_table.ipynb>data table notebook</a>'\n",
              "            + ' to learn more about interactive tables.';\n",
              "          element.innerHTML = '';\n",
              "          dataTable['output_type'] = 'display_data';\n",
              "          await google.colab.output.renderOutput(dataTable, element);\n",
              "          const docLink = document.createElement('div');\n",
              "          docLink.innerHTML = docLinkHtml;\n",
              "          element.appendChild(docLink);\n",
              "        }\n",
              "      </script>\n",
              "    </div>\n",
              "  </div>\n",
              "  "
            ]
          },
          "metadata": {},
          "execution_count": 6
        }
      ],
      "source": [
        "data_path = '/content/SkillTreePython-DeepLearning/dataset/housing.csv'\n",
        "df = pd.read_csv(data_path,\n",
        "                 header=None, # 첫번째 행이 데이터(컬럼이 없음)\n",
        "                 delim_whitespace=True # 스페이스바 기준으로 데이터가 나뉨\n",
        "                 )\n",
        "print(df.shape)\n",
        "# 샘플 수 : 506개\n",
        "# 인풋 : 13, 타겟 : 1 = 총 14개 속성 \n",
        "df.head()"
      ]
    },
    {
      "cell_type": "markdown",
      "source": [
        "#### **데이터 전처리**"
      ],
      "metadata": {
        "id": "794TIO4Rfru5"
      }
    },
    {
      "cell_type": "code",
      "source": [
        "from sklearn.preprocessing import StandardScaler\n",
        "from sklearn.model_selection import train_test_split\n",
        "\n",
        "def path2data_housing(path, seed=1):\n",
        "  # 데이터 적절히 불러오기\n",
        "  df = pd.read_csv(data_path,\n",
        "                   header=None, # 첫번째 행이 데이터(컬럼이 없음)\n",
        "                   delim_whitespace=True # 스페이스바 기준으로 데이터가 나뉨\n",
        "                   )\n",
        "  # 정규화 (x의 모든속성, y)\n",
        "  scaler = StandardScaler()\n",
        "  df = scaler.fit_transform(df)\n",
        "  \n",
        "  # x-y 분할\n",
        "  x = df[:, :-1] # 모든행(샘플), 0부터12까지 열(속성)\n",
        "  y = df[:, -1] # 모든행(샘플), 13번째 열(속성)\n",
        "\n",
        "  # train-test 데이터 분할\n",
        "  x_train, x_test, y_train, y_test = train_test_split(x, y, test_size=0.3, random_state=seed)\n",
        "  return x_train, x_test, y_train, y_test\n",
        "\n",
        "data_path = '/content/SkillTreePython-DeepLearning/dataset/housing.csv'\n",
        "x_train, x_test, y_train, y_test = path2data_housing(data_path)\n",
        "print(x_train.shape, x_test.shape, y_train.shape, y_test.shape)\n",
        "print(x_train[1], y_train[1])"
      ],
      "metadata": {
        "id": "D1U-aFW96391",
        "colab": {
          "base_uri": "https://localhost:8080/"
        },
        "outputId": "6ef99a89-0d8e-4b39-d2c0-49c3e5564709"
      },
      "execution_count": null,
      "outputs": [
        {
          "output_type": "stream",
          "name": "stdout",
          "text": [
            "(354, 13) (152, 13) (354,) (152,)\n",
            "[-0.40053497  0.58526684 -0.87644514 -0.27259857 -0.87847549 -0.45394524\n",
            "  0.88279471  1.4372583  -0.17812039 -0.7378796   0.57539459  0.23470271\n",
            "  0.25048169] -0.7110141614338678\n"
          ]
        }
      ]
    },
    {
      "cell_type": "markdown",
      "source": [
        "* 예측값 분포 확인"
      ],
      "metadata": {
        "id": "Y548LRfsrYV9"
      }
    },
    {
      "cell_type": "code",
      "source": [
        "plt.subplot(121);sns.histplot(x=y_train);plt.title('trainset')\n",
        "plt.subplot(122);sns.histplot(x=y_test);plt.title('testset')"
      ],
      "metadata": {
        "id": "6VCNr946fcA5",
        "colab": {
          "base_uri": "https://localhost:8080/",
          "height": 299
        },
        "outputId": "85060e25-212c-456b-c716-64f9f46aa6e8"
      },
      "execution_count": null,
      "outputs": [
        {
          "output_type": "execute_result",
          "data": {
            "text/plain": [
              "Text(0.5, 1.0, 'testset')"
            ]
          },
          "metadata": {},
          "execution_count": 10
        },
        {
          "output_type": "display_data",
          "data": {
            "text/plain": [
              "<Figure size 432x288 with 2 Axes>"
            ],
            "image/png": "[encoded data removed]"
          },
          "metadata": {
            "needs_background": "light"
          }
        }
      ]
    },
    {
      "cell_type": "markdown",
      "source": [
        "### | 모델\n",
        "\n",
        "\n",
        "<p align='center'>\n",
        "<img src=https://github.com/yebiny/SkillTreePython-DeepLearning/blob/main/imgs/ch0103-01.PNG?raw=true width=600>\n",
        "</p>"
      ],
      "metadata": {
        "id": "DHshtWB9r0be"
      }
    },
    {
      "cell_type": "markdown",
      "source": [
        "#### **모델 생성**"
      ],
      "metadata": {
        "id": "J94jFpWyr2k9"
      }
    },
    {
      "cell_type": "code",
      "source": [
        "from tensorflow.keras import models, layers, utils\n",
        "\n",
        "def build_model():\n",
        "  x = layers.Input(shape=(13,)) # 데이터가 주어지면 인풋의 shape는 고정\n",
        "  z = layers.Dense(15, activation='relu')(x)\n",
        "  z = layers.Dense(6, activation='relu')(z)\n",
        "  y = layers.Dense(1)(z) # 데이터가 주어지면 아웃풋의  shape는 고정 \n",
        "  #( 회귀문제는 마지막 아웃풋 shape가 1, 마지막 활성화함수는 사용하지 않음 )\n",
        "  model = models.Model(x, y, name='house_regressor')\n",
        "  return model"
      ],
      "metadata": {
        "id": "5BZG1z90rsGc"
      },
      "execution_count": null,
      "outputs": []
    },
    {
      "cell_type": "markdown",
      "source": [
        "#### **모델 시각화**\n",
        "\n",
        "* `model.summary()`\n",
        "* `utils.plot_model()`"
      ],
      "metadata": {
        "id": "1yqXLbEyx5QK"
      }
    },
    {
      "cell_type": "code",
      "source": [
        "model = build_model()\n",
        "model.summary()\n",
        "utils.plot_model(model, show_shapes=True)"
      ],
      "metadata": {
        "id": "dKCT38Fsr6dF",
        "colab": {
          "base_uri": "https://localhost:8080/",
          "height": 733
        },
        "outputId": "1ab3ee45-c3c1-4f31-d1aa-cfc80fb6863c"
      },
      "execution_count": null,
      "outputs": [
        {
          "output_type": "stream",
          "name": "stdout",
          "text": [
            "Model: \"house_regressor\"\n",
            "_________________________________________________________________\n",
            " Layer (type)                Output Shape              Param #   \n",
            "=================================================================\n",
            " input_3 (InputLayer)        [(None, 13)]              0         \n",
            "                                                                 \n",
            " dense_6 (Dense)             (None, 15)                210       \n",
            "                                                                 \n",
            " dense_7 (Dense)             (None, 6)                 96        \n",
            "                                                                 \n",
            " dense_8 (Dense)             (None, 1)                 7         \n",
            "                                                                 \n",
            "=================================================================\n",
            "Total params: 313\n",
            "Trainable params: 313\n",
            "Non-trainable params: 0\n",
            "_________________________________________________________________\n"
          ]
        },
        {
          "output_type": "execute_result",
          "data": {
            "text/plain": [
              "<IPython.core.display.Image object>"
            ],
            "image/png": "[encoded data removed]"
          },
          "metadata": {},
          "execution_count": 14
        }
      ]
    },
    {
      "cell_type": "markdown",
      "source": [
        "### | 학습"
      ],
      "metadata": {
        "id": "gLuvsUFmwzPa"
      }
    },
    {
      "cell_type": "markdown",
      "source": [
        "#### **모델 컴파일**\n",
        "\n",
        "```\n",
        "model.compile(loss, optimizer) \n",
        "```\n",
        "* `loss` : 회귀문제, mse(mean squared error)\n",
        "* `optimizer` : adam, 경사하강법(gradient descent) 기반의 더 성능 향상된 함수 "
      ],
      "metadata": {
        "id": "fwQboNHp3EHe"
      }
    },
    {
      "cell_type": "code",
      "source": [
        "model.compile(loss = 'mean_squared_error',\n",
        "              optimizer='adam')"
      ],
      "metadata": {
        "id": "oZsx_wHcsQRk"
      },
      "execution_count": null,
      "outputs": []
    },
    {
      "cell_type": "markdown",
      "source": [
        "#### **학습**\n",
        "\n",
        "```\n",
        "model.fit(x_train, y_train, epochs, batch_size)\n",
        "```\n",
        "* `x_train` : 넘파이 혹은 텐서 형식의 인풋 데이터\n",
        "* `y_train` : 넘파이 혹은 텐서 형식의 아웃풋 데이터\n",
        "* `epochs` : 학습 횟수\n",
        "* `batch_size` : 배치 사이즈 ((업데이트 한번에 사용될 샘플 개수)"
      ],
      "metadata": {
        "id": "_d8jc6rx3FUn"
      }
    },
    {
      "cell_type": "code",
      "source": [
        "model.fit(x_train, y_train,\n",
        "          epochs = 200,\n",
        "          batch_size = 16)"
      ],
      "metadata": {
        "id": "WxZ052VJ3FpG"
      },
      "execution_count": null,
      "outputs": []
    },
    {
      "cell_type": "markdown",
      "source": [
        "### | 검증 및 예측\n"
      ],
      "metadata": {
        "id": "DyFOnqyNw5_q"
      }
    },
    {
      "cell_type": "markdown",
      "source": [
        "#### **검증**\n",
        "\n",
        "```\n",
        "model.evaluate(x_test, y_test)\n",
        "```\n",
        "* `x_test` : 넘파이 혹은 텐서 형식의 인풋 테스트 데이터\n",
        "* `y_test` : 넘파이 혹은 텐서 형식의 아웃풋 테스트 데이터"
      ],
      "metadata": {
        "id": "qlalKZ-a04c3"
      }
    },
    {
      "cell_type": "code",
      "source": [
        "model.evaluate(x_test, y_test)"
      ],
      "metadata": {
        "id": "uHGyMlf60zng",
        "colab": {
          "base_uri": "https://localhost:8080/"
        },
        "outputId": "9a693629-4284-499f-f0c1-3941e927cb85"
      },
      "execution_count": null,
      "outputs": [
        {
          "output_type": "stream",
          "name": "stdout",
          "text": [
            "5/5 [==============================] - 0s 2ms/step - loss: 0.1179\n"
          ]
        },
        {
          "output_type": "execute_result",
          "data": {
            "text/plain": [
              "0.11790941655635834"
            ]
          },
          "metadata": {},
          "execution_count": 29
        }
      ]
    },
    {
      "cell_type": "markdown",
      "source": [
        "#### **예측**\n",
        "\n",
        "```\n",
        "model.predict(x_test)\n",
        "```\n",
        "* `x_test` : 넘파이 혹은 텐서 형식의 인풋 테스트 데이터\n",
        "* `y_test` : 넘파이 혹은 텐서 형식의 아웃풋 테스트 데이터"
      ],
      "metadata": {
        "id": "BITPUIOj07Uv"
      }
    },
    {
      "cell_type": "code",
      "source": [
        "y_pred = model.predict(x_test)\n",
        "y_pred = y_pred.flatten()\n",
        "y_test.shape, y_pred.shape"
      ],
      "metadata": {
        "id": "KfDHL4PRv8YD",
        "colab": {
          "base_uri": "https://localhost:8080/"
        },
        "outputId": "ffc28af3-b47a-491c-e978-3dbf0fdfcb22"
      },
      "execution_count": null,
      "outputs": [
        {
          "output_type": "execute_result",
          "data": {
            "text/plain": [
              "((152,), (152,))"
            ]
          },
          "metadata": {},
          "execution_count": 30
        }
      ]
    },
    {
      "cell_type": "markdown",
      "source": [
        "* 예측 시각화"
      ],
      "metadata": {
        "id": "gThN4RCR0_HI"
      }
    },
    {
      "cell_type": "code",
      "source": [
        "#for y, y_p in zip(y_test, y_pred):\n",
        "#  print(y, y_p)\n",
        "\n",
        "sns.scatterplot(x=y_test, y=y_pred)\n",
        "plt.plot([-2,3],[-2,3], c='r') # (-2,-2) 부터 (3,3)을 이은 선\n",
        "plt.xlabel('y true')\n",
        "plt.ylabel('y pred')\n",
        "plt.show()"
      ],
      "metadata": {
        "id": "TG533VyLwDaK",
        "colab": {
          "base_uri": "https://localhost:8080/",
          "height": 279
        },
        "outputId": "f2608888-212b-48fd-c312-cdec2920a024"
      },
      "execution_count": null,
      "outputs": [
        {
          "output_type": "display_data",
          "data": {
            "text/plain": [
              "<Figure size 432x288 with 1 Axes>"
            ],
            "image/png": "[encoded data removed]"
          },
          "metadata": {
            "needs_background": "light"
          }
        }
      ]
    },
    {
      "cell_type": "markdown",
      "source": [
        "## 과제\n",
        "---"
      ],
      "metadata": {
        "id": "ZFrRTgcyipYg"
      }
    },
    {
      "cell_type": "markdown",
      "source": [
        "### | 과제1. 회귀 문제 정리\n",
        "\n",
        "* 예측값의 범위 : 연속, 무한 but 정규화 \n",
        "* 예측값의 shape : (샘플개수, 1) 혹은 (샘플개수, )\n",
        "* 아웃풋 레이어의 노드 개수 : 1\n",
        "* 아웃풋 레이어의 activation : 없다.\n",
        "* 손실함수 (loss) : mse, mae, ...\n",
        "* 평가함수 (metrics) : 사용하지 않음"
      ],
      "metadata": {
        "id": "xjnJSLgXK_Pp"
      }
    },
    {
      "cell_type": "markdown",
      "source": [
        "### | 과제2. 한 셀에 코드 정리하기\n",
        "\n",
        "* 추가 연습\n",
        "  * 모델의 깊이(depth)를 늘려가며 학습해 보세요.\n",
        "  * 모델의 너비(width)를 늘려가며 학습해 보세요."
      ],
      "metadata": {
        "id": "ZvFAB78P1B_Q"
      }
    },
    {
      "cell_type": "code",
      "source": [
        "from sklearn.preprocessing import StandardScaler\n",
        "from sklearn.model_selection import train_test_split\n",
        "from tensorflow.keras import models, layers, utils\n",
        "\n",
        "def path2data_housing(path, seed=1):\n",
        "  # 데이터 적절히 불러오기\n",
        "  df = pd.read_csv(data_path,\n",
        "                   header=None, # 첫번째 행이 데이터(컬럼이 없음)\n",
        "                   delim_whitespace=True # 스페이스바 기준으로 데이터가 나뉨\n",
        "                   )\n",
        "  # 정규화 (x의 모든속성, y)\n",
        "  scaler = StandardScaler()\n",
        "  df = scaler.fit_transform(df)\n",
        "  \n",
        "  # x-y 분할\n",
        "  x = df[:, :-1] # 모든행(샘플), 0부터12까지 열(속성)\n",
        "  y = df[:, -1] # 모든행(샘플), 13번째 열(속성)\n",
        "\n",
        "  # train-test 데이터 분할\n",
        "  x_train, x_test, y_train, y_test = train_test_split(x, y, test_size=0.3, random_state=seed)\n",
        "  return x_train, x_test, y_train, y_test\n",
        "\n",
        "\n",
        "def build_model():\n",
        "  x = layers.Input(shape=(13,)) # 데이터가 주어지면 인풋의 shape는 고정\n",
        "  z = layers.Dense(15, activation='relu')(x)\n",
        "  z = layers.Dense(6, activation='relu')(z)\n",
        "  y = layers.Dense(1)(z) # 데이터가 주어지면 아웃풋의  shape는 고정 \n",
        "  #( 회귀문제는 마지막 아웃풋 shape가 1, 마지막 활성화함수는 사용하지 않음 )\n",
        "  model = models.Model(x, y, name='house_regressor')\n",
        "  return model\n",
        "\n",
        "\n",
        "# 데이터 준비\n",
        "data_path = '/content/SkillTreePython-DeepLearning/dataset/housing.csv'\n",
        "x_train, x_test, y_train, y_test = path2data_housing(data_path)\n",
        "print(x_train.shape, x_test.shape, y_train.shape, y_test.shape)\n",
        "print(x_train[1], y_train[1])\n",
        "\n",
        "# 모델 학습\n",
        "model = build_model()\n",
        "model.compile(loss = 'mean_squared_error',\n",
        "              optimizer='adam')\n",
        "model.fit(x_train, y_train,\n",
        "          epochs = 20,\n",
        "          batch_size = 16)\n",
        "\n",
        "# 예측 결과 확인\n",
        "y_pred = model.predict(x_test)\n",
        "y_pred = y_pred.flatten()\n",
        "sns.scatterplot(x=y_test, y=y_pred)\n",
        "plt.plot([-2,3],[-2,3], c='r') # (-2,-2) 부터 (3,3)을 이은 선\n",
        "plt.xlabel('y true')\n",
        "plt.ylabel('y pred')\n",
        "plt.show()"
      ],
      "metadata": {
        "id": "v5WYSd9a1Cz4",
        "colab": {
          "base_uri": "https://localhost:8080/",
          "height": 1000
        },
        "outputId": "9b4b8cc9-54fd-44d2-cf79-87cc84225477"
      },
      "execution_count": null,
      "outputs": [
        {
          "output_type": "stream",
          "name": "stdout",
          "text": [
            "(354, 13) (152, 13) (354,) (152,)\n",
            "[-0.40053497  0.58526684 -0.87644514 -0.27259857 -0.87847549 -0.45394524\n",
            "  0.88279471  1.4372583  -0.17812039 -0.7378796   0.57539459  0.23470271\n",
            "  0.25048169] -0.7110141614338678\n",
            "Epoch 1/20\n",
            "23/23 [==============================] - 0s 2ms/step - loss: 2.9201\n",
            "Epoch 2/20\n",
            "23/23 [==============================] - 0s 2ms/step - loss: 1.8302\n",
            "Epoch 3/20\n",
            "23/23 [==============================] - 0s 1ms/step - loss: 1.2634\n",
            "Epoch 4/20\n",
            "23/23 [==============================] - 0s 2ms/step - loss: 0.9756\n",
            "Epoch 5/20\n",
            "23/23 [==============================] - 0s 1ms/step - loss: 0.8329\n",
            "Epoch 6/20\n",
            "23/23 [==============================] - 0s 2ms/step - loss: 0.7491\n",
            "Epoch 7/20\n",
            "23/23 [==============================] - 0s 2ms/step - loss: 0.6815\n",
            "Epoch 8/20\n",
            "23/23 [==============================] - 0s 2ms/step - loss: 0.6135\n",
            "Epoch 9/20\n",
            "23/23 [==============================] - 0s 2ms/step - loss: 0.5379\n",
            "Epoch 10/20\n",
            "23/23 [==============================] - 0s 2ms/step - loss: 0.4638\n",
            "Epoch 11/20\n",
            "23/23 [==============================] - 0s 3ms/step - loss: 0.4140\n",
            "Epoch 12/20\n",
            "23/23 [==============================] - 0s 3ms/step - loss: 0.3785\n",
            "Epoch 13/20\n",
            "23/23 [==============================] - 0s 2ms/step - loss: 0.3455\n",
            "Epoch 14/20\n",
            "23/23 [==============================] - 0s 2ms/step - loss: 0.3207\n",
            "Epoch 15/20\n",
            "23/23 [==============================] - 0s 3ms/step - loss: 0.3002\n",
            "Epoch 16/20\n",
            "23/23 [==============================] - 0s 3ms/step - loss: 0.2860\n",
            "Epoch 17/20\n",
            "23/23 [==============================] - 0s 3ms/step - loss: 0.2727\n",
            "Epoch 18/20\n",
            "23/23 [==============================] - 0s 2ms/step - loss: 0.2636\n",
            "Epoch 19/20\n",
            "23/23 [==============================] - 0s 2ms/step - loss: 0.2577\n",
            "Epoch 20/20\n",
            "23/23 [==============================] - 0s 2ms/step - loss: 0.2463\n"
          ]
        },
        {
          "output_type": "display_data",
          "data": {
            "text/plain": [
              "<Figure size 432x288 with 1 Axes>"
            ],
            "image/png": "[encoded data removed]"
          },
          "metadata": {
            "needs_background": "light"
          }
        }
      ]
    },
    {
      "cell_type": "markdown",
      "source": [
        "### | 과제 3. 캘리포니아 집값 예측\n",
        "\n",
        "---\n",
        "\n",
        "> 1990년 캘리포니아 인구조사 데이터인 캘리포니아 주택 가격(California Housing Prices) 데이터를 사용하며 학습을 통해 주택 가격을 예측하는 문제입니다.\n",
        "\n",
        "\n",
        "```\n",
        "- 0 longitude: 경도\n",
        "- 1 latitude: 위도\n",
        "- 2 housing_median_age: 주택나이 (중앙값)\n",
        "- 3 total_rooms: 전체 방 수\n",
        "- 4 total_bedrooms: 전체 침실 수\n",
        "- 5 population: 인구\n",
        "- 6 households: 세대\n",
        "- 7 median_income: 소득(중앙값)\n",
        "- 8 median_house_value: 주택 가치(중앙값)\n",
        "```\n",
        "\n",
        "* `/content/sample_data/california_housing_train.csv` "
      ],
      "metadata": {
        "id": "FvTdcVFC5LMt"
      }
    },
    {
      "cell_type": "code",
      "source": [
        "import numpy as np\n",
        "import pandas as pd\n",
        "import tensorflow as tf\n",
        "import matplotlib.pyplot as plt\n",
        "import seaborn as sns\n",
        "from sklearn.preprocessing import StandardScaler # (0기준으로 정규분포 라이브러리)\n",
        "from sklearn.model_selection import train_test_split # (샘플 나누는 라이브러리)\n",
        "from tensorflow.keras import models, layers\n",
        "seed=1\n",
        "np.random.seed(seed)\n",
        "tf.random.set_seed(seed)\n",
        "\n",
        "def cali_housing_process(df):\n",
        "  # 정규화\n",
        "  scaler = StandardScaler() # z-score 스케일러 불러오기\n",
        "  df_scaled = scaler.fit_transform(df) # 스케일러 이용해서 정규화 \n",
        "  x = df_scaled[:,0:8] # (모든 샘플수, 앞에서 8개 피쳐)\n",
        "  y = df_scaled[:,-1:] # (모든 샘플수, 마지막 1개 피쳐 = median_house_value)\n",
        "  # 이미 train-test 나뉘어 있으므로 \n",
        "  return x, y\n",
        "\n",
        "def make_cali_housing_model():\n",
        "  input = layers.Input(shape=(8), name='input') # 데이터 개수는 생각 x\n",
        "  z1 = layers.Dense(15, activation='relu', name='z1')(input) # input을 어떤 함수에 넣으면 z가 된다.\n",
        "  z2 = layers.Dense(6, activation='relu', name='z2')(z1)\n",
        "  output = layers.Dense(1, name='ouput')(z2)\n",
        "  model = models.Model(input, output, name='housing_model') # input과 output을 써주면 자동으로 모델이 생성\n",
        "  return model\n",
        "\n",
        "# 데이터 \n",
        "train_data_path = '/content/sample_data/california_housing_train.csv'\n",
        "test_data_path = '/content/sample_data/california_housing_test.csv'\n",
        "df_train = pd.read_csv(train_data_path)\n",
        "df_test = pd.read_csv(test_data_path)\n",
        "#df_train.head() # 꼭 한번 확인 해보고 process 함수 짜보기\n",
        "print(df_train.shape, df_test.shape)\n",
        "x_train, y_train = cali_housing_process(df_train)\n",
        "x_test, y_test = cali_housing_process(df_test)\n",
        "print('train 데이터', x_train.shape, y_train.shape)\n",
        "print('test 데이터', x_test.shape, y_test.shape)\n",
        "\n",
        "\n",
        "# 모델 빌드\n",
        "model = make_cali_housing_model() # 모델 만들 때 새로운 데이터에 맞춰서 만들어주기!\n",
        "model.summary()\n",
        "model.compile(loss = 'mean_squared_error', optimizer = 'adam')\n",
        "\n",
        "# 모델 학습\n",
        "model.fit(x_train, y_train, epochs=10, batch_size=8)\n",
        "model.evaluate(x_test, y_test)\n",
        "\n",
        "# 예측 시각화\n",
        "y_pred = model.predict(x_test)\n",
        "plt.figure(figsize=(4,5))\n",
        "sns.scatterplot(x=y_test[:,0], y=y_pred[:,0]) # (N,)\n",
        "plt.xlabel('Real y')\n",
        "plt.ylabel('Pred y')\n",
        "plt.plot([-2,3],[-2,3], c='r') # x=y 일 때의 직선 그어주기\n",
        "plt.show()"
      ],
      "metadata": {
        "id": "2EuSlVjcnkHS"
      },
      "execution_count": null,
      "outputs": []
    },
    {
      "cell_type": "code",
      "source": [],
      "metadata": {
        "id": "3DwOC15O87E0"
      },
      "execution_count": null,
      "outputs": []
    },
    {
      "cell_type": "code",
      "source": [],
      "metadata": {
        "id": "Seml9MudkIke"
      },
      "execution_count": null,
      "outputs": []
    }
  ]
}
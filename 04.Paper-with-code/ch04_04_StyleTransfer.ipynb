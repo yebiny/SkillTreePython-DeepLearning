{
  "nbformat": 4,
  "nbformat_minor": 0,
  "metadata": {
    "colab": {
      "name": "ch04_04_StyleTransfer.ipynb",
      "provenance": [],
      "collapsed_sections": [],
      "machine_shape": "hm",
      "authorship_tag": "ABX9TyMeS3peKsvp0f2fwjpEbs+a",
      "include_colab_link": true
    },
    "kernelspec": {
      "name": "python3",
      "display_name": "Python 3"
    },
    "language_info": {
      "name": "python"
    },
    "accelerator": "GPU",
    "gpuClass": "standard"
  },
  "cells": [
    {
      "cell_type": "markdown",
      "metadata": {
        "id": "view-in-github",
        "colab_type": "text"
      },
      "source": [
        "<a href=\"https://colab.research.google.com/github/yebiny/SkillTreePython-DeepLearning/blob/main/04.Paper-with-code/ch04_04_StyleTransfer.ipynb\" target=\"_parent\"><img src=\"https://colab.research.google.com/assets/colab-badge.svg\" alt=\"Open In Colab\"/></a>"
      ]
    },
    {
      "cell_type": "markdown",
      "metadata": {
        "id": "sWs2kEC1_b-P"
      },
      "source": [
        "# ch04.04 Style Transfer\n",
        "\n",
        "* 날짜:\n",
        "* 이름:\n",
        "\n",
        "## 학습내용\n",
        "    - Style transfer에 대해 이해하고 코드로 구현한다.\n",
        "    - Stlye transfer를 사용하여 이미지의 스타일을 바꾼다.\n",
        "\n",
        "* [논문: Image Style Transfer Using Convolutional Neural Networks](https://www.cv-foundation.org/openaccess/content_cvpr_2016/papers/Gatys_Image_Style_Transfer_CVPR_2016_paper.pdf)\n",
        "* [Keras 실습 참고 코드](https://keras.io/examples/generative/neural_style_transfer/)\n",
        "\n",
        "<p align='center'>\n",
        "<img  src ='https://www.popit.kr/wp-content/uploads/2018/04/gatys_style_transfer.jpg' width=700>\n",
        "</p>"
      ]
    },
    {
      "cell_type": "markdown",
      "source": [
        "## 이미지 전처리\n",
        "---"
      ],
      "metadata": {
        "id": "Lsk1-_etjcXC"
      }
    },
    {
      "cell_type": "code",
      "source": [
        ""
      ],
      "metadata": {
        "id": "XbVBLBNtY_7Y"
      },
      "execution_count": null,
      "outputs": []
    },
    {
      "cell_type": "markdown",
      "source": [
        "![](https://s3.amazonaws.com/book.keras.io/img/ch8/style_transfer.png)"
      ],
      "metadata": {
        "id": "Fc_Rvae0r9YU"
      }
    },
    {
      "cell_type": "code",
      "source": [
        ""
      ],
      "metadata": {
        "id": "J_Kiw33aWrey"
      },
      "execution_count": null,
      "outputs": []
    },
    {
      "cell_type": "markdown",
      "source": [
        "## 모델 준비\n",
        "---\n",
        "\n",
        "<p align='center'>\n",
        "<img  src ='https://img1.daumcdn.net/thumb/R1280x0/?scode=mtistory2&fname=https%3A%2F%2Fblog.kakaocdn.net%2Fdn%2FzzZ6d%2FbtqtZOLsxg8%2Fdykdt2eKeWaxRFx8iyzEE0%2Fimg.png\n",
        "' width=500>\n",
        "</p>\n"
      ],
      "metadata": {
        "id": "70H7RIE4jnRX"
      }
    },
    {
      "cell_type": "code",
      "source": [
        ""
      ],
      "metadata": {
        "id": "Cm1xNEjdO5t8"
      },
      "execution_count": null,
      "outputs": []
    },
    {
      "cell_type": "markdown",
      "source": [
        "#### **특성 추출기**"
      ],
      "metadata": {
        "id": "Gg26e2RUtQkD"
      }
    },
    {
      "cell_type": "code",
      "source": [
        ""
      ],
      "metadata": {
        "id": "PbvYPCiNs91n"
      },
      "execution_count": null,
      "outputs": []
    },
    {
      "cell_type": "code",
      "source": [
        ""
      ],
      "metadata": {
        "id": "aoovmPO9s6uk"
      },
      "execution_count": null,
      "outputs": []
    },
    {
      "cell_type": "markdown",
      "source": [
        "#### **이미지 텐서 준비**"
      ],
      "metadata": {
        "id": "Mo1-jrqStUFB"
      }
    },
    {
      "cell_type": "code",
      "source": [
        ""
      ],
      "metadata": {
        "id": "-Jb8exKUYtau"
      },
      "execution_count": null,
      "outputs": []
    },
    {
      "cell_type": "markdown",
      "source": [
        "#### **특성 추출**"
      ],
      "metadata": {
        "id": "ZWK6QT31tfp1"
      }
    },
    {
      "cell_type": "code",
      "source": [
        ""
      ],
      "metadata": {
        "id": "Y-Mnw7ZatfRR"
      },
      "execution_count": null,
      "outputs": []
    },
    {
      "cell_type": "markdown",
      "source": [
        "## 손실 정의\n",
        "---\n",
        "\n",
        "![](https://img1.daumcdn.net/thumb/R1280x0/?scode=mtistory2&fname=https%3A%2F%2Fblog.kakaocdn.net%2Fdn%2FboAUdP%2Fbtqt7RHqZqN%2Fx6SxUNLAdhpBw7J5JcK08k%2Fimg.png)"
      ],
      "metadata": {
        "id": "wlQuWpYwjYKV"
      }
    },
    {
      "cell_type": "markdown",
      "source": [
        "### **| 컨텐츠 손실**\n",
        "\n",
        "![](https://img1.daumcdn.net/thumb/R1280x0/?scode=mtistory2&fname=https%3A%2F%2Fblog.kakaocdn.net%2Fdn%2FclyRn2%2Fbtqt4yhBuoM%2FA6LcrtitH46HHzqYu40vo1%2Fimg.png)"
      ],
      "metadata": {
        "id": "jPqOZz6hmJ7Y"
      }
    },
    {
      "cell_type": "markdown",
      "source": [
        "#### **컨텐츠 손실 정의**"
      ],
      "metadata": {
        "id": "-O1wgeY6TUPk"
      }
    },
    {
      "cell_type": "code",
      "source": [
        ""
      ],
      "metadata": {
        "id": "OyXCrta0wv2T"
      },
      "execution_count": null,
      "outputs": []
    },
    {
      "cell_type": "markdown",
      "source": [
        "#### **컨텐츠 손실 계산**"
      ],
      "metadata": {
        "id": "A4RIub5WeEM4"
      }
    },
    {
      "cell_type": "code",
      "source": [
        ""
      ],
      "metadata": {
        "id": "L91Cep4Ve03m"
      },
      "execution_count": null,
      "outputs": []
    },
    {
      "cell_type": "markdown",
      "source": [
        "### **| 스타일 손실**\n",
        "\n",
        "![](https://img1.daumcdn.net/thumb/R1280x0/?scode=mtistory2&fname=https%3A%2F%2Fblog.kakaocdn.net%2Fdn%2FE2teK%2FbtqubfnwDl2%2F9WdiAMbhEKKL9SNNfQqdlk%2Fimg.png)\n"
      ],
      "metadata": {
        "id": "11gsdA4vkE2c"
      }
    },
    {
      "cell_type": "markdown",
      "source": [
        "#### **그램(gram) 매트릭스**"
      ],
      "metadata": {
        "id": "Vdi7aZ-K1xVf"
      }
    },
    {
      "cell_type": "code",
      "source": [
        ""
      ],
      "metadata": {
        "id": "aKOqNMib1xVo"
      },
      "execution_count": null,
      "outputs": []
    },
    {
      "cell_type": "markdown",
      "source": [
        "#### **스타일 손실 정의**"
      ],
      "metadata": {
        "id": "RfugkAh23MRt"
      }
    },
    {
      "cell_type": "code",
      "source": [
        ""
      ],
      "metadata": {
        "id": "Gxyfi3wi3Edt"
      },
      "execution_count": null,
      "outputs": []
    },
    {
      "cell_type": "markdown",
      "source": [
        "#### **스타일 손실 계산**"
      ],
      "metadata": {
        "id": "a_HZvz8eeG6V"
      }
    },
    {
      "cell_type": "code",
      "source": [
        ""
      ],
      "metadata": {
        "id": "B9Zfak0SyD0B"
      },
      "execution_count": null,
      "outputs": []
    },
    {
      "cell_type": "markdown",
      "source": [
        "#### **| 총 변위 손실**\n",
        "\n",
        "* 생성된 이미지가 공간적인 연속성을 가지도록 도와준다.\n",
        "* 픽셀의 격자무늬가 과도하게 나타나는 것을 막아 준다.\n",
        "* 일종의 규제 항으로 해석할 수 있다."
      ],
      "metadata": {
        "id": "Tap2E0hIVAkk"
      }
    },
    {
      "cell_type": "code",
      "source": [
        ""
      ],
      "metadata": {
        "id": "6GyRR5eqc1m_"
      },
      "execution_count": null,
      "outputs": []
    },
    {
      "cell_type": "code",
      "source": [
        ""
      ],
      "metadata": {
        "id": "KLWxT-r8TpZ_"
      },
      "execution_count": null,
      "outputs": []
    },
    {
      "cell_type": "markdown",
      "source": [
        "## 학습\n",
        "---"
      ],
      "metadata": {
        "id": "psSFjC1Te-xe"
      }
    },
    {
      "cell_type": "markdown",
      "source": [
        "### **| 학습을 위한 손실 함수 정리**"
      ],
      "metadata": {
        "id": "8IoZPkESTvfc"
      }
    },
    {
      "cell_type": "code",
      "source": [
        ""
      ],
      "metadata": {
        "id": "aIItTK3ffB5g"
      },
      "execution_count": null,
      "outputs": []
    },
    {
      "cell_type": "code",
      "source": [
        ""
      ],
      "metadata": {
        "id": "T4w9GosrkCsn"
      },
      "execution_count": null,
      "outputs": []
    },
    {
      "cell_type": "code",
      "source": [
        ""
      ],
      "metadata": {
        "id": "_lzUXDnZqEpM"
      },
      "execution_count": null,
      "outputs": []
    },
    {
      "cell_type": "code",
      "source": [
        ""
      ],
      "metadata": {
        "id": "ha1lWumlkGJM"
      },
      "execution_count": 145,
      "outputs": []
    },
    {
      "cell_type": "code",
      "source": [
        ""
      ],
      "metadata": {
        "id": "BHzEzFELsxEy"
      },
      "execution_count": null,
      "outputs": []
    }
  ]
}
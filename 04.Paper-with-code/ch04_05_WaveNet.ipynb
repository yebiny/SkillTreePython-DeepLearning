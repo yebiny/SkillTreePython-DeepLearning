{
  "nbformat": 4,
  "nbformat_minor": 0,
  "metadata": {
    "colab": {
      "name": "ch04_05_WaveNet.ipynb",
      "provenance": [],
      "collapsed_sections": [],
      "toc_visible": true,
      "mount_file_id": "1sPd65C-kdHAoE5FAPNc9kzrXHChbh9tT",
      "authorship_tag": "ABX9TyP0a6FM8Txezn72MqI2USen",
      "include_colab_link": true
    },
    "kernelspec": {
      "name": "python3",
      "display_name": "Python 3"
    },
    "language_info": {
      "name": "python"
    }
  },
  "cells": [
    {
      "cell_type": "markdown",
      "metadata": {
        "id": "view-in-github",
        "colab_type": "text"
      },
      "source": [
        "<a href=\"https://colab.research.google.com/github/yebiny/SkillTreePython-DeepLearning/blob/main/04.Paper-with-code/ch04_05_WaveNet.ipynb\" target=\"_parent\"><img src=\"https://colab.research.google.com/assets/colab-badge.svg\" alt=\"Open In Colab\"/></a>"
      ]
    },
    {
      "cell_type": "markdown",
      "source": [
        "# ch04.05 Wave Net\n",
        "\n",
        "* 날짜:\n",
        "* 이름:\n",
        "\n",
        "## 학습내용\n",
        "    - Audio data에 대해 이해한다.\n",
        "    - 머신러닝 방법으로 접근하여 문제를 해결해 본다.\n",
        "    - 딥러닝 네트워크를 이용해 문제를 해결한다.\n",
        "    - waveNet, yamNet 등 딥러닝 알고리즘을 적용한다.\n",
        "\n"
      ],
      "metadata": {
        "id": "nLnUQASYQKZc"
      }
    },
    {
      "cell_type": "code",
      "source": [
        ""
      ],
      "metadata": {
        "id": "U3il3OYQHLOU"
      },
      "execution_count": null,
      "outputs": []
    },
    {
      "cell_type": "code",
      "source": [
        ""
      ],
      "metadata": {
        "id": "mBluYfrhYyi5"
      },
      "execution_count": null,
      "outputs": []
    },
    {
      "cell_type": "markdown",
      "source": [
        "## 데이터셋 - Kaggle GTZAN Dataset \n",
        "---\n",
        "\n",
        "https://www.kaggle.com/datasets/andradaolteanu/gtzan-dataset-music-genre-classification\n",
        "\n"
      ],
      "metadata": {
        "id": "hxIvHXTQQ2gq"
      }
    },
    {
      "cell_type": "markdown",
      "source": [
        "### **| kaggle 데이터 연동**\n",
        "\n",
        "\n",
        "1. kaggle 로그인 - my account - API Create New Api Token - `kaggle.json` 파일 다운로드\n",
        "2. Drive에 저장해 놓는것을 권장\n",
        "3. kaggle 패키지 다운로드\n",
        "```\n",
        "! pip install kaggle\n",
        "```\n",
        "4. 권한 변경\n",
        "```\n",
        "! chmod 600 `드라이브 파일 경로`\n",
        "```\n",
        "5. `~/` 위치에 복사\n",
        "```\n",
        "! cp `드라이브 파일 경로` ~/.kaggle/\n",
        "```\n",
        "\n",
        "6. 데이터셋 다운로드\n",
        "```\n",
        "! kaggle datasets download 데이터주소\n",
        "```"
      ],
      "metadata": {
        "id": "qcb6YKfTH7Vc"
      }
    },
    {
      "cell_type": "code",
      "source": [
        ""
      ],
      "metadata": {
        "id": "NH7Ez3ipJEwE"
      },
      "execution_count": null,
      "outputs": []
    },
    {
      "cell_type": "code",
      "source": [
        ""
      ],
      "metadata": {
        "id": "YW4KkTP3JKd8"
      },
      "execution_count": null,
      "outputs": []
    },
    {
      "cell_type": "markdown",
      "source": [
        "### **| EDA**"
      ],
      "metadata": {
        "id": "k_sMsWczLaQk"
      }
    },
    {
      "cell_type": "code",
      "source": [
        ""
      ],
      "metadata": {
        "id": "-aL8n9q0LfCB"
      },
      "execution_count": null,
      "outputs": []
    },
    {
      "cell_type": "code",
      "source": [
        ""
      ],
      "metadata": {
        "id": "KweV9aufLlKS"
      },
      "execution_count": null,
      "outputs": []
    },
    {
      "cell_type": "code",
      "source": [
        ""
      ],
      "metadata": {
        "id": "3KTR9wdcQfR7"
      },
      "execution_count": null,
      "outputs": []
    },
    {
      "cell_type": "code",
      "source": [
        ""
      ],
      "metadata": {
        "id": "dp6iuwNmSadi"
      },
      "execution_count": null,
      "outputs": []
    },
    {
      "cell_type": "markdown",
      "source": [
        "## 머신러닝 접근 방법 (features)\n",
        "---"
      ],
      "metadata": {
        "id": "d4Q9k8t6RNYS"
      }
    },
    {
      "cell_type": "markdown",
      "source": [
        "### **| 파라미터 추가**\n"
      ],
      "metadata": {
        "id": "y_PydNFEY5SI"
      }
    },
    {
      "cell_type": "code",
      "source": [
        ""
      ],
      "metadata": {
        "id": "JdbxEMkGbMkg"
      },
      "execution_count": null,
      "outputs": []
    },
    {
      "cell_type": "code",
      "source": [
        ""
      ],
      "metadata": {
        "id": "xo3fAGv1dIlI"
      },
      "execution_count": null,
      "outputs": []
    },
    {
      "cell_type": "code",
      "source": [
        ""
      ],
      "metadata": {
        "id": "fN5uwX_DY9ZX"
      },
      "execution_count": null,
      "outputs": []
    },
    {
      "cell_type": "code",
      "source": [
        ""
      ],
      "metadata": {
        "id": "vPm1jsbaY9cP"
      },
      "execution_count": null,
      "outputs": []
    },
    {
      "cell_type": "code",
      "source": [
        ""
      ],
      "metadata": {
        "id": "t1mAntq3aN9B"
      },
      "execution_count": null,
      "outputs": []
    },
    {
      "cell_type": "markdown",
      "source": [
        "### **| 전처리**\n"
      ],
      "metadata": {
        "id": "ejdMsI7-S55y"
      }
    },
    {
      "cell_type": "code",
      "source": [
        ""
      ],
      "metadata": {
        "id": "oEKlZSAYS4Ca"
      },
      "execution_count": null,
      "outputs": []
    },
    {
      "cell_type": "code",
      "source": [
        ""
      ],
      "metadata": {
        "id": "GjvdryMJS4Ep"
      },
      "execution_count": null,
      "outputs": []
    },
    {
      "cell_type": "code",
      "source": [
        ""
      ],
      "metadata": {
        "id": "XsQSvYv5TZOR"
      },
      "execution_count": null,
      "outputs": []
    },
    {
      "cell_type": "code",
      "source": [
        ""
      ],
      "metadata": {
        "id": "IDUfzRhJT-lp"
      },
      "execution_count": null,
      "outputs": []
    },
    {
      "cell_type": "code",
      "source": [
        ""
      ],
      "metadata": {
        "id": "FtFKgpIJS4HB"
      },
      "execution_count": null,
      "outputs": []
    },
    {
      "cell_type": "markdown",
      "source": [
        "### **| 학습 - XGBoost**"
      ],
      "metadata": {
        "id": "5l5G-ZbNUO0h"
      }
    },
    {
      "cell_type": "code",
      "source": [
        ""
      ],
      "metadata": {
        "id": "LAO5ZwSkS4Lc"
      },
      "execution_count": null,
      "outputs": []
    },
    {
      "cell_type": "code",
      "source": [
        ""
      ],
      "metadata": {
        "id": "IBYVm_8AS4N7"
      },
      "execution_count": null,
      "outputs": []
    },
    {
      "cell_type": "markdown",
      "source": [
        "### **| 학습 - DNN**"
      ],
      "metadata": {
        "id": "sSp8HDpJRpUT"
      }
    },
    {
      "cell_type": "code",
      "source": [
        ""
      ],
      "metadata": {
        "id": "N5uyggs47hdU"
      },
      "execution_count": null,
      "outputs": []
    },
    {
      "cell_type": "code",
      "source": [
        ""
      ],
      "metadata": {
        "id": "NC9NJ53_-9Vb"
      },
      "execution_count": null,
      "outputs": []
    },
    {
      "cell_type": "code",
      "source": [
        ""
      ],
      "metadata": {
        "id": "o6ROAr7SACJ7"
      },
      "execution_count": null,
      "outputs": []
    },
    {
      "cell_type": "code",
      "source": [
        ""
      ],
      "metadata": {
        "id": "D7hr3aQVAVLC"
      },
      "execution_count": null,
      "outputs": []
    },
    {
      "cell_type": "markdown",
      "source": [
        "## 딥러닝 접근 방법(Audio 원 데이터)\n",
        "---"
      ],
      "metadata": {
        "id": "D426_xuhBBLj"
      }
    },
    {
      "cell_type": "code",
      "source": [
        ""
      ],
      "metadata": {
        "id": "VymTW7sKCD2K"
      },
      "execution_count": null,
      "outputs": []
    },
    {
      "cell_type": "code",
      "source": [
        ""
      ],
      "metadata": {
        "id": "Bi55w3G2SL7C"
      },
      "execution_count": null,
      "outputs": []
    }
  ]
}
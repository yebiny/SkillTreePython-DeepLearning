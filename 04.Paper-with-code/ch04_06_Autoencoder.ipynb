{
  "nbformat": 4,
  "nbformat_minor": 0,
  "metadata": {
    "colab": {
      "name": "ch04_06_Autoencoder.ipynb",
      "provenance": [],
      "collapsed_sections": [],
      "mount_file_id": "1ntw_DQkFV8fxz2HDFA6RuipZR4Tpx5ng",
      "authorship_tag": "ABX9TyMUMRFNlmfM3751+JDpfUcu",
      "include_colab_link": true
    },
    "kernelspec": {
      "name": "python3",
      "display_name": "Python 3"
    },
    "language_info": {
      "name": "python"
    },
    "gpuClass": "standard"
  },
  "cells": [
    {
      "cell_type": "markdown",
      "metadata": {
        "id": "view-in-github",
        "colab_type": "text"
      },
      "source": [
        "<a href=\"https://colab.research.google.com/github/yebiny/SkillTreePython-DeepLearning/blob/main/04.Paper-with-code/ch04_06_Autoencoder.ipynb\" target=\"_parent\"><img src=\"https://colab.research.google.com/assets/colab-badge.svg\" alt=\"Open In Colab\"/></a>"
      ]
    },
    {
      "cell_type": "markdown",
      "source": [
        "# ch04.06 AutoEncoder\n",
        "\n",
        "* 날짜:\n",
        "* 이름:\n",
        "\n",
        "## 학습내용\n",
        "    - AutoEncoder를 이해하고 구현한다.\n",
        "    - Denoising 을 적용해 본다. \n",
        "    - 이상치 탐지를 적용해 본다. "
      ],
      "metadata": {
        "id": "nLnUQASYQKZc"
      }
    },
    {
      "cell_type": "code",
      "source": [],
      "metadata": {
        "id": "PUe-mUqFpMmd"
      },
      "execution_count": null,
      "outputs": []
    },
    {
      "cell_type": "code",
      "source": [],
      "metadata": {
        "id": "VkIoZ27wJmmV"
      },
      "execution_count": null,
      "outputs": []
    },
    {
      "cell_type": "markdown",
      "source": [
        "## AutoEncoder 기본 구현\n",
        "---\n",
        "\n",
        "![](https://gaussian37.github.io/assets/img/dl/concept/autoencoder2/autoencoder.png)"
      ],
      "metadata": {
        "id": "vFu4vTX1IeLS"
      }
    },
    {
      "cell_type": "markdown",
      "source": [
        "### **| 모델 구성**"
      ],
      "metadata": {
        "id": "pS1B1gq8Dds0"
      }
    },
    {
      "cell_type": "code",
      "source": [],
      "metadata": {
        "id": "8bZEfX8knfdt"
      },
      "execution_count": null,
      "outputs": []
    },
    {
      "cell_type": "code",
      "source": [],
      "metadata": {
        "id": "10jsKWnRnfdu"
      },
      "execution_count": null,
      "outputs": []
    },
    {
      "cell_type": "markdown",
      "source": [
        "### **| 학습**"
      ],
      "metadata": {
        "id": "iiMmcIoWDiPM"
      }
    },
    {
      "cell_type": "code",
      "source": [],
      "metadata": {
        "id": "UKb-Fkslnj57"
      },
      "execution_count": null,
      "outputs": []
    },
    {
      "cell_type": "code",
      "source": [],
      "metadata": {
        "id": "R0sBydcaojKL"
      },
      "execution_count": null,
      "outputs": []
    },
    {
      "cell_type": "markdown",
      "source": [
        "### **| 결과 확인**"
      ],
      "metadata": {
        "id": "PdNbThXwDT5G"
      }
    },
    {
      "cell_type": "code",
      "source": [],
      "metadata": {
        "id": "tkwgCUhf7vJH"
      },
      "execution_count": null,
      "outputs": []
    },
    {
      "cell_type": "code",
      "source": [],
      "metadata": {
        "id": "FDs9q-pTo607"
      },
      "execution_count": null,
      "outputs": []
    },
    {
      "cell_type": "code",
      "source": [],
      "metadata": {
        "id": "KuZeBt-g6PMt"
      },
      "execution_count": null,
      "outputs": []
    },
    {
      "cell_type": "code",
      "source": [],
      "metadata": {
        "id": "yPQnux_ZBsDT"
      },
      "execution_count": null,
      "outputs": []
    },
    {
      "cell_type": "markdown",
      "source": [
        "## AutoEncoder 활용 - Denoising\n",
        "---"
      ],
      "metadata": {
        "id": "zmmEHsjaI1RS"
      }
    },
    {
      "cell_type": "markdown",
      "source": [
        "### **| 데이터 준비**"
      ],
      "metadata": {
        "id": "CENoscN3PkzY"
      }
    },
    {
      "cell_type": "code",
      "source": [],
      "metadata": {
        "id": "mW57AnieBwQz"
      },
      "execution_count": null,
      "outputs": []
    },
    {
      "cell_type": "markdown",
      "source": [
        "### **| 훈련**"
      ],
      "metadata": {
        "id": "dl0A6pOtPnbg"
      }
    },
    {
      "cell_type": "code",
      "source": [],
      "metadata": {
        "id": "MBo88AVyHOLV"
      },
      "execution_count": null,
      "outputs": []
    },
    {
      "cell_type": "markdown",
      "source": [
        "### **| 결과 확인**"
      ],
      "metadata": {
        "id": "mNxxpE5gPo5x"
      }
    },
    {
      "cell_type": "code",
      "source": [],
      "metadata": {
        "id": "BW_YtAFDGP3y"
      },
      "execution_count": null,
      "outputs": []
    },
    {
      "cell_type": "code",
      "source": [],
      "metadata": {
        "id": "7qXrdbsLGdjJ"
      },
      "execution_count": null,
      "outputs": []
    },
    {
      "cell_type": "markdown",
      "source": [
        "## AutoEncoder 활용 - 이상치 탐지\n",
        "---"
      ],
      "metadata": {
        "id": "xUPxyAH4Jmw9"
      }
    },
    {
      "cell_type": "markdown",
      "source": [
        "### **| 모델 구성**"
      ],
      "metadata": {
        "id": "gTr7DvJCN71E"
      }
    },
    {
      "cell_type": "code",
      "source": [],
      "metadata": {
        "id": "U3il3OYQHLOU"
      },
      "execution_count": null,
      "outputs": []
    },
    {
      "cell_type": "code",
      "source": [],
      "metadata": {
        "id": "mBluYfrhYyi5"
      },
      "execution_count": null,
      "outputs": []
    },
    {
      "cell_type": "markdown",
      "source": [
        "### **| 데이터 준비**\n"
      ],
      "metadata": {
        "id": "5m3QTjB5WDZx"
      }
    },
    {
      "cell_type": "code",
      "source": [],
      "metadata": {
        "id": "6JrD1X5hWLOj"
      },
      "execution_count": null,
      "outputs": []
    },
    {
      "cell_type": "code",
      "source": [],
      "metadata": {
        "id": "VP3oy7pGZHZI"
      },
      "execution_count": null,
      "outputs": []
    },
    {
      "cell_type": "code",
      "source": [],
      "metadata": {
        "id": "fT-9LwBiZbC6"
      },
      "execution_count": null,
      "outputs": []
    },
    {
      "cell_type": "code",
      "source": [],
      "metadata": {
        "id": "Sgnjp9WFaKBw"
      },
      "execution_count": null,
      "outputs": []
    },
    {
      "cell_type": "code",
      "source": [],
      "metadata": {
        "id": "9p1LgtjHZn8C"
      },
      "execution_count": null,
      "outputs": []
    },
    {
      "cell_type": "code",
      "source": [],
      "metadata": {
        "id": "EyvBt_c5Ro3Z"
      },
      "execution_count": null,
      "outputs": []
    },
    {
      "cell_type": "markdown",
      "source": [
        "### **| 훈련**"
      ],
      "metadata": {
        "id": "epitQPKLc_7o"
      }
    },
    {
      "cell_type": "code",
      "source": [],
      "metadata": {
        "id": "d_std4YbRwTq"
      },
      "execution_count": null,
      "outputs": []
    },
    {
      "cell_type": "code",
      "source": [],
      "metadata": {
        "id": "1-O1GcaqSD5b"
      },
      "execution_count": null,
      "outputs": []
    },
    {
      "cell_type": "markdown",
      "source": [
        "### **| 결과 확인**"
      ],
      "metadata": {
        "id": "8eqhsbdnKdWb"
      }
    },
    {
      "cell_type": "code",
      "source": [],
      "metadata": {
        "id": "U9J6NtntSZXJ"
      },
      "execution_count": null,
      "outputs": []
    },
    {
      "cell_type": "code",
      "source": [],
      "metadata": {
        "id": "1JJlPpFIftrY"
      },
      "execution_count": null,
      "outputs": []
    },
    {
      "cell_type": "code",
      "source": [],
      "metadata": {
        "id": "w5pyddM-M4mr"
      },
      "execution_count": null,
      "outputs": []
    },
    {
      "cell_type": "code",
      "source": [],
      "metadata": {
        "id": "sW8ib3rrLhfp"
      },
      "execution_count": null,
      "outputs": []
    }
  ]
}
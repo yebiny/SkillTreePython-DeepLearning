{
  "nbformat": 4,
  "nbformat_minor": 0,
  "metadata": {
    "colab": {
      "provenance": [],
      "collapsed_sections": [],
      "mount_file_id": "1ntw_DQkFV8fxz2HDFA6RuipZR4Tpx5ng",
      "authorship_tag": "ABX9TyPNyZhzcJa+obQ60Qin2Zyg",
      "include_colab_link": true
    },
    "kernelspec": {
      "name": "python3",
      "display_name": "Python 3"
    },
    "language_info": {
      "name": "python"
    },
    "gpuClass": "standard",
    "accelerator": "GPU"
  },
  "cells": [
    {
      "cell_type": "markdown",
      "metadata": {
        "id": "view-in-github",
        "colab_type": "text"
      },
      "source": [
        "<a href=\"https://colab.research.google.com/github/yebiny/SkillTreePython-DeepLearning/blob/main/04.Paper-with-code/ch04_07_VAE.ipynb\" target=\"_parent\"><img src=\"https://colab.research.google.com/assets/colab-badge.svg\" alt=\"Open In Colab\"/></a>"
      ]
    },
    {
      "cell_type": "markdown",
      "source": [
        "# ch04.07 Variational AutoEncoder\n",
        "\n",
        "* 날짜:\n",
        "* 이름:\n",
        "\n",
        "## 학습내용\n",
        "    - Variational AutoEncoder를 이해하고 구현한다.\n"
      ],
      "metadata": {
        "id": "nLnUQASYQKZc"
      }
    },
    {
      "cell_type": "code",
      "source": [],
      "metadata": {
        "id": "hTxV-YejWjED"
      },
      "execution_count": null,
      "outputs": []
    },
    {
      "cell_type": "code",
      "source": [],
      "metadata": {
        "id": "EJIeT8-pWjEE"
      },
      "execution_count": null,
      "outputs": []
    },
    {
      "cell_type": "markdown",
      "source": [
        "## VAE 기본 구현\n",
        "---\n",
        "\n",
        "![](https://user-images.githubusercontent.com/24144491/50323466-18d03700-051d-11e9-82ed-afb1b6e2666a.png)"
      ],
      "metadata": {
        "id": "vFu4vTX1IeLS"
      }
    },
    {
      "cell_type": "markdown",
      "source": [
        "### **| Encoder, Decoder 구현**"
      ],
      "metadata": {
        "id": "pS1B1gq8Dds0"
      }
    },
    {
      "cell_type": "code",
      "source": [],
      "metadata": {
        "id": "8bZEfX8knfdt"
      },
      "execution_count": null,
      "outputs": []
    },
    {
      "cell_type": "code",
      "source": [],
      "metadata": {
        "id": "WfRLfGfsddFc"
      },
      "execution_count": null,
      "outputs": []
    },
    {
      "cell_type": "markdown",
      "source": [
        "### **| 손실함수 정의**\n",
        "\n",
        "![](https://user-images.githubusercontent.com/24144491/50323472-1a016400-051d-11e9-86b7-d8bf6a1a880f.png)"
      ],
      "metadata": {
        "id": "iiMmcIoWDiPM"
      }
    },
    {
      "cell_type": "code",
      "source": [],
      "metadata": {
        "id": "Cw_4DSPUhOWE"
      },
      "execution_count": null,
      "outputs": []
    },
    {
      "cell_type": "markdown",
      "source": [
        "### **| VAE 구현**"
      ],
      "metadata": {
        "id": "BQtgvvbKlqil"
      }
    },
    {
      "cell_type": "code",
      "source": [],
      "metadata": {
        "id": "R0sBydcaojKL"
      },
      "execution_count": null,
      "outputs": []
    },
    {
      "cell_type": "markdown",
      "source": [
        "### **| 학습**"
      ],
      "metadata": {
        "id": "PdNbThXwDT5G"
      }
    },
    {
      "cell_type": "code",
      "source": [],
      "metadata": {
        "id": "VRZP2fnPjCLU"
      },
      "execution_count": null,
      "outputs": []
    },
    {
      "cell_type": "code",
      "source": [],
      "metadata": {
        "id": "VKyqpUj5jDYt"
      },
      "execution_count": null,
      "outputs": []
    },
    {
      "cell_type": "code",
      "source": [],
      "metadata": {
        "id": "tkwgCUhf7vJH"
      },
      "execution_count": null,
      "outputs": []
    },
    {
      "cell_type": "code",
      "source": [],
      "metadata": {
        "id": "KuZeBt-g6PMt"
      },
      "execution_count": null,
      "outputs": []
    },
    {
      "cell_type": "markdown",
      "source": [
        "### **| 결과 확인**"
      ],
      "metadata": {
        "id": "mNxxpE5gPo5x"
      }
    },
    {
      "cell_type": "code",
      "source": [],
      "metadata": {
        "id": "BW_YtAFDGP3y"
      },
      "execution_count": null,
      "outputs": []
    },
    {
      "cell_type": "code",
      "source": [],
      "metadata": {
        "id": "7qXrdbsLGdjJ"
      },
      "execution_count": null,
      "outputs": []
    }
  ]
}